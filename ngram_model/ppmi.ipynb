{
 "cells": [
  {
   "cell_type": "code",
   "execution_count": 1,
   "metadata": {},
   "outputs": [],
   "source": [
    "import numpy as np\n",
    "from utils import create_cooccurrence_matrix,tokenize,build_vocabulary,get_word_to_id_from_vocab,get_id_to_word,build_corpus"
   ]
  },
  {
   "cell_type": "code",
   "execution_count": 2,
   "metadata": {},
   "outputs": [],
   "source": [
    "text = \"I had a good sleep yesterday\""
   ]
  },
  {
   "cell_type": "code",
   "execution_count": 3,
   "metadata": {},
   "outputs": [],
   "source": [
    "words = tokenize(text)\n",
    "vocab = build_vocabulary(words)\n",
    "word_to_id = get_word_to_id_from_vocab(vocab)\n",
    "id_to_word = get_id_to_word(word_to_id)\n"
   ]
  },
  {
   "cell_type": "code",
   "execution_count": 4,
   "metadata": {},
   "outputs": [],
   "source": [
    "corpus = build_corpus(words,word_to_id)"
   ]
  },
  {
   "cell_type": "code",
   "execution_count": 5,
   "metadata": {},
   "outputs": [],
   "source": [
    "C = create_cooccurrence_matrix(corpus,window_size=1,vocab_size=len(vocab))"
   ]
  },
  {
   "cell_type": "code",
   "execution_count": 6,
   "metadata": {},
   "outputs": [
    {
     "name": "stdout",
     "output_type": "stream",
     "text": [
      "[[0. 0. 0. 1. 0. 1.]\n",
      " [0. 0. 0. 1. 0. 0.]\n",
      " [0. 0. 0. 0. 1. 1.]\n",
      " [1. 1. 0. 0. 0. 0.]\n",
      " [0. 0. 1. 0. 0. 0.]\n",
      " [1. 0. 1. 0. 0. 0.]]\n"
     ]
    }
   ],
   "source": [
    "print(C)"
   ]
  },
  {
   "cell_type": "code",
   "execution_count": 7,
   "metadata": {},
   "outputs": [],
   "source": [
    "M = np.zeros_like(C, dtype=np.float32)\n",
    "N = np.sum(C)\n",
    "S = np.sum(C, axis=0)\n",
    "eps=1e-8\n",
    "for row_idx in range(C.shape[0]):\n",
    "    for col_idx in range(C.shape[1]):\n",
    "        pmi = np.log2(C[row_idx,col_idx]*N/(S[row_idx]*S[col_idx])+eps)\n",
    "        M[row_idx, col_idx] = max(0,pmi)"
   ]
  },
  {
   "cell_type": "code",
   "execution_count": 8,
   "metadata": {},
   "outputs": [
    {
     "name": "stdout",
     "output_type": "stream",
     "text": [
      "[2. 1. 2. 2. 1. 2.]\n",
      "[2. 1. 2. 2. 1. 2.]\n"
     ]
    }
   ],
   "source": [
    "print(S)\n",
    "print(np.sum(C,axis=1))"
   ]
  },
  {
   "cell_type": "code",
   "execution_count": 9,
   "metadata": {},
   "outputs": [
    {
     "name": "stdout",
     "output_type": "stream",
     "text": [
      "[[0.        0.        0.        1.3219281 0.        1.3219281]\n",
      " [0.        0.        0.        2.321928  0.        0.       ]\n",
      " [0.        0.        0.        0.        2.321928  1.3219281]\n",
      " [1.3219281 2.321928  0.        0.        0.        0.       ]\n",
      " [0.        0.        2.321928  0.        0.        0.       ]\n",
      " [1.3219281 0.        1.3219281 0.        0.        0.       ]]\n"
     ]
    }
   ],
   "source": [
    "print(M)"
   ]
  }
 ],
 "metadata": {
  "kernelspec": {
   "display_name": "dl_312_venv",
   "language": "python",
   "name": "python3"
  },
  "language_info": {
   "codemirror_mode": {
    "name": "ipython",
    "version": 3
   },
   "file_extension": ".py",
   "mimetype": "text/x-python",
   "name": "python",
   "nbconvert_exporter": "python",
   "pygments_lexer": "ipython3",
   "version": "3.12.0"
  }
 },
 "nbformat": 4,
 "nbformat_minor": 2
}
