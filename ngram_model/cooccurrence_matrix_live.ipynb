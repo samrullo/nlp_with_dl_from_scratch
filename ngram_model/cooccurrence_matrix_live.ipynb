{
 "cells": [
  {
   "cell_type": "code",
   "execution_count": 1,
   "metadata": {},
   "outputs": [],
   "source": [
    "text = \"I had a good sleep yesterday, that's why I feel full of energy. I had my breakfast and I was ready for my journey.\""
   ]
  },
  {
   "cell_type": "code",
   "execution_count": 2,
   "metadata": {},
   "outputs": [
    {
     "name": "stdout",
     "output_type": "stream",
     "text": [
      "['I', 'had', 'a', 'good', 'sleep', 'yesterday', ',', 'that', \"'\", 's', 'why', 'I', 'feel', 'full', 'of', 'energy', '.', 'I', 'had', 'my', 'breakfast', 'and', 'I', 'was', 'ready', 'for', 'my', 'journey', '.']\n"
     ]
    }
   ],
   "source": [
    "import re\n",
    "\n",
    "words = re.findall(r\"\\w+|[^\\w\\s]+\", text)\n",
    "print(words)"
   ]
  },
  {
   "cell_type": "code",
   "execution_count": 3,
   "metadata": {},
   "outputs": [
    {
     "name": "stdout",
     "output_type": "stream",
     "text": [
      "the vocabulary size : 23\n",
      "vocab : {'full', 'sleep', 's', 'was', 'feel', 'journey', 'ready', 'a', 'and', 'my', 'breakfast', 'had', ',', \"'\", '.', 'energy', 'why', 'I', 'good', 'that', 'for', 'yesterday', 'of'}\n"
     ]
    }
   ],
   "source": [
    "vocab = set(words)\n",
    "print(f\"the vocabulary size : {len(vocab)}\")\n",
    "print(f\"vocab : {vocab}\")"
   ]
  },
  {
   "cell_type": "code",
   "execution_count": 4,
   "metadata": {},
   "outputs": [],
   "source": [
    "word_to_id = {word:idx for idx,word in enumerate(vocab)}"
   ]
  },
  {
   "cell_type": "code",
   "execution_count": 5,
   "metadata": {},
   "outputs": [
    {
     "name": "stdout",
     "output_type": "stream",
     "text": [
      "vocab as a list : ['full', 'sleep', 's', 'was', 'feel', 'journey', 'ready', 'a', 'and', 'my', 'breakfast', 'had', ',', \"'\", '.', 'energy', 'why', 'I', 'good', 'that', 'for', 'yesterday', 'of']\n"
     ]
    }
   ],
   "source": [
    "vocab = list(vocab)\n",
    "print(f\"vocab as a list : {vocab}\")"
   ]
  },
  {
   "cell_type": "code",
   "execution_count": 6,
   "metadata": {},
   "outputs": [
    {
     "name": "stdout",
     "output_type": "stream",
     "text": [
      "word to id mappings : {'full': 0, 'sleep': 1, 's': 2, 'was': 3, 'feel': 4, 'journey': 5, 'ready': 6, 'a': 7, 'and': 8, 'my': 9, 'breakfast': 10, 'had': 11, ',': 12, \"'\": 13, '.': 14, 'energy': 15, 'why': 16, 'I': 17, 'good': 18, 'that': 19, 'for': 20, 'yesterday': 21, 'of': 22}\n"
     ]
    }
   ],
   "source": [
    "word_to_id = {word:idx for idx,word in enumerate(vocab)}\n",
    "id_to_word = {id:word for word,id in word_to_id.items()}\n",
    "print(f\"word to id mappings : {word_to_id}\")"
   ]
  },
  {
   "cell_type": "code",
   "execution_count": 7,
   "metadata": {},
   "outputs": [
    {
     "name": "stdout",
     "output_type": "stream",
     "text": [
      "corpus : [17, 11, 7, 18, 1, 21, 12, 19, 13, 2, 16, 17, 4, 0, 22, 15, 14, 17, 11, 9, 10, 8, 17, 3, 6, 20, 9, 5, 14]\n"
     ]
    }
   ],
   "source": [
    "corpus = [word_to_id[word] for word in words]\n",
    "print(f\"corpus : {corpus}\")"
   ]
  },
  {
   "cell_type": "code",
   "execution_count": 8,
   "metadata": {},
   "outputs": [
    {
     "name": "stdout",
     "output_type": "stream",
     "text": [
      "cooccurrence matrix shape : (23, 23)\n"
     ]
    }
   ],
   "source": [
    "import numpy as np\n",
    "\n",
    "cooccur_mat = np.zeros((len(vocab),len(vocab)))\n",
    "print(f\"cooccurrence matrix shape : {cooccur_mat.shape}\")"
   ]
  },
  {
   "cell_type": "code",
   "execution_count": 9,
   "metadata": {},
   "outputs": [],
   "source": [
    "window_size = 2\n",
    "\n",
    "for word_pos,word_id in enumerate(corpus):\n",
    "    for context_idx in range(1, window_size+1):\n",
    "        left_word_pos = word_pos - context_idx\n",
    "        right_word_pos = word_pos + context_idx\n",
    "\n",
    "        if left_word_pos > 0:\n",
    "            left_word_id = corpus[left_word_pos]\n",
    "            cooccur_mat[word_id, left_word_id] += 1\n",
    "        \n",
    "        if right_word_pos < len(corpus):\n",
    "            right_word_id = corpus[right_word_pos]\n",
    "            cooccur_mat[word_id, right_word_id] += 1"
   ]
  },
  {
   "cell_type": "code",
   "execution_count": 10,
   "metadata": {},
   "outputs": [
    {
     "name": "stdout",
     "output_type": "stream",
     "text": [
      "cooccurrence matrix : [[0. 0. 0. 0. 1. 0. 0. 0. 0. 0. 0. 0. 0. 0. 0. 1. 0. 1. 0. 0. 0. 0. 1.]\n",
      " [0. 0. 0. 0. 0. 0. 0. 1. 0. 0. 0. 0. 1. 0. 0. 0. 0. 0. 1. 0. 0. 1. 0.]\n",
      " [0. 0. 0. 0. 0. 0. 0. 0. 0. 0. 0. 0. 0. 1. 0. 0. 1. 1. 0. 1. 0. 0. 0.]\n",
      " [0. 0. 0. 0. 0. 0. 1. 0. 1. 0. 0. 0. 0. 0. 0. 0. 0. 1. 0. 0. 1. 0. 0.]\n",
      " [1. 0. 0. 0. 0. 0. 0. 0. 0. 0. 0. 0. 0. 0. 0. 0. 1. 1. 0. 0. 0. 0. 1.]\n",
      " [0. 0. 0. 0. 0. 0. 0. 0. 0. 1. 0. 0. 0. 0. 1. 0. 0. 0. 0. 0. 1. 0. 0.]\n",
      " [0. 0. 0. 1. 0. 0. 0. 0. 0. 1. 0. 0. 0. 0. 0. 0. 0. 1. 0. 0. 1. 0. 0.]\n",
      " [0. 1. 0. 0. 0. 0. 0. 0. 0. 0. 0. 1. 0. 0. 0. 0. 0. 0. 1. 0. 0. 0. 0.]\n",
      " [0. 0. 0. 1. 0. 0. 0. 0. 0. 1. 1. 0. 0. 0. 0. 0. 0. 1. 0. 0. 0. 0. 0.]\n",
      " [0. 0. 0. 0. 0. 1. 1. 0. 1. 0. 1. 1. 0. 0. 1. 0. 0. 1. 0. 0. 1. 0. 0.]\n",
      " [0. 0. 0. 0. 0. 0. 0. 0. 1. 1. 0. 1. 0. 0. 0. 0. 0. 1. 0. 0. 0. 0. 0.]\n",
      " [0. 0. 0. 0. 0. 0. 0. 1. 0. 1. 1. 0. 0. 0. 1. 0. 0. 1. 1. 0. 0. 0. 0.]\n",
      " [0. 1. 0. 0. 0. 0. 0. 0. 0. 0. 0. 0. 0. 1. 0. 0. 0. 0. 0. 1. 0. 1. 0.]\n",
      " [0. 0. 1. 0. 0. 0. 0. 0. 0. 0. 0. 0. 1. 0. 0. 0. 1. 0. 0. 1. 0. 0. 0.]\n",
      " [0. 0. 0. 0. 0. 1. 0. 0. 0. 1. 0. 1. 0. 0. 0. 1. 0. 1. 0. 0. 0. 0. 1.]\n",
      " [1. 0. 0. 0. 0. 0. 0. 0. 0. 0. 0. 0. 0. 0. 1. 0. 0. 1. 0. 0. 0. 0. 1.]\n",
      " [0. 0. 1. 0. 1. 0. 0. 0. 0. 0. 0. 0. 0. 1. 0. 0. 0. 1. 0. 0. 0. 0. 0.]\n",
      " [1. 0. 1. 1. 1. 0. 1. 1. 1. 1. 1. 2. 0. 0. 1. 1. 1. 0. 0. 0. 0. 0. 0.]\n",
      " [0. 1. 0. 0. 0. 0. 0. 1. 0. 0. 0. 1. 0. 0. 0. 0. 0. 0. 0. 0. 0. 1. 0.]\n",
      " [0. 0. 1. 0. 0. 0. 0. 0. 0. 0. 0. 0. 1. 1. 0. 0. 0. 0. 0. 0. 0. 1. 0.]\n",
      " [0. 0. 0. 1. 0. 1. 1. 0. 0. 1. 0. 0. 0. 0. 0. 0. 0. 0. 0. 0. 0. 0. 0.]\n",
      " [0. 1. 0. 0. 0. 0. 0. 0. 0. 0. 0. 0. 1. 0. 0. 0. 0. 0. 1. 1. 0. 0. 0.]\n",
      " [1. 0. 0. 0. 1. 0. 0. 0. 0. 0. 0. 0. 0. 0. 1. 1. 0. 0. 0. 0. 0. 0. 0.]]\n"
     ]
    }
   ],
   "source": [
    "print(f\"cooccurrence matrix : {cooccur_mat}\")"
   ]
  },
  {
   "cell_type": "code",
   "execution_count": 11,
   "metadata": {},
   "outputs": [
    {
     "name": "stdout",
     "output_type": "stream",
     "text": [
      "vector representation of word I : [1. 0. 1. 1. 1. 0. 1. 1. 1. 1. 1. 2. 0. 0. 1. 1. 1. 0. 0. 0. 0. 0. 0.]\n",
      "id of word had : 11\n",
      "id of word a : 7\n"
     ]
    }
   ],
   "source": [
    "print(f\"vector representation of word I : {cooccur_mat[word_to_id[\"I\"]]}\")\n",
    "print(f\"id of word had : {word_to_id['had']}\")\n",
    "print(f\"id of word a : {word_to_id['a']}\")\n"
   ]
  },
  {
   "cell_type": "code",
   "execution_count": 12,
   "metadata": {},
   "outputs": [
    {
     "name": "stdout",
     "output_type": "stream",
     "text": [
      "vector representation of word good : [0. 1. 0. 0. 0. 0. 0. 1. 0. 0. 0. 1. 0. 0. 0. 0. 0. 0. 0. 0. 0. 1. 0.]\n",
      "id of word a : 7\n",
      "id of word sleep : 1\n"
     ]
    }
   ],
   "source": [
    "print(f\"vector representation of word good : {cooccur_mat[word_to_id[\"good\"]]}\")\n",
    "print(f\"id of word a : {word_to_id['a']}\")\n",
    "print(f\"id of word sleep : {word_to_id['sleep']}\")"
   ]
  }
 ],
 "metadata": {
  "kernelspec": {
   "display_name": "dl_312_venv",
   "language": "python",
   "name": "python3"
  },
  "language_info": {
   "codemirror_mode": {
    "name": "ipython",
    "version": 3
   },
   "file_extension": ".py",
   "mimetype": "text/x-python",
   "name": "python",
   "nbconvert_exporter": "python",
   "pygments_lexer": "ipython3",
   "version": "3.12.0"
  }
 },
 "nbformat": 4,
 "nbformat_minor": 2
}
