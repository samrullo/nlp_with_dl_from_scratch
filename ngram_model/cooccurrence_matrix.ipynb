{
 "cells": [
  {
   "cell_type": "code",
   "execution_count": 12,
   "metadata": {},
   "outputs": [],
   "source": [
    "text=\"I had a good sleep yesterday.\""
   ]
  },
  {
   "cell_type": "code",
   "execution_count": 13,
   "metadata": {},
   "outputs": [
    {
     "name": "stdout",
     "output_type": "stream",
     "text": [
      "['I', 'had', 'a', 'good', 'sleep', 'yesterday', '.']\n"
     ]
    }
   ],
   "source": [
    "import re\n",
    "\n",
    "words=re.findall(r\"\\w+|[^\\w\\s]+\",text)\n",
    "\n",
    "print(words)"
   ]
  },
  {
   "cell_type": "code",
   "execution_count": 16,
   "metadata": {},
   "outputs": [
    {
     "name": "stdout",
     "output_type": "stream",
     "text": [
      "['good', 'a', 'sleep', '.', 'yesterday', 'I', 'had']\n"
     ]
    }
   ],
   "source": [
    "vocab = list(set(words))\n",
    "\n",
    "print(vocab)"
   ]
  },
  {
   "cell_type": "code",
   "execution_count": 17,
   "metadata": {},
   "outputs": [],
   "source": [
    "word_to_id = {word : idx for idx,word in enumerate(vocab) }\n",
    "id_to_word = {id:word for word,id in word_to_id.items()}"
   ]
  },
  {
   "cell_type": "code",
   "execution_count": 18,
   "metadata": {},
   "outputs": [
    {
     "data": {
      "text/plain": [
       "{'good': 0, 'a': 1, 'sleep': 2, '.': 3, 'yesterday': 4, 'I': 5, 'had': 6}"
      ]
     },
     "execution_count": 18,
     "metadata": {},
     "output_type": "execute_result"
    }
   ],
   "source": [
    "word_to_id"
   ]
  },
  {
   "cell_type": "code",
   "execution_count": 45,
   "metadata": {},
   "outputs": [
    {
     "name": "stdout",
     "output_type": "stream",
     "text": [
      "(7, 7)\n"
     ]
    }
   ],
   "source": [
    "import numpy as np\n",
    "\n",
    "vocab_size = len(word_to_id)\n",
    "cooccur_mat = np.zeros((vocab_size, vocab_size))\n",
    "print(cooccur_mat.shape)"
   ]
  },
  {
   "cell_type": "code",
   "execution_count": 21,
   "metadata": {},
   "outputs": [],
   "source": [
    "corpus = [word_to_id[word] for word in words]"
   ]
  },
  {
   "cell_type": "code",
   "execution_count": 22,
   "metadata": {},
   "outputs": [
    {
     "name": "stdout",
     "output_type": "stream",
     "text": [
      "[5, 6, 1, 0, 2, 4, 3]\n"
     ]
    }
   ],
   "source": [
    "print(corpus)"
   ]
  },
  {
   "cell_type": "code",
   "execution_count": 46,
   "metadata": {},
   "outputs": [],
   "source": [
    "window_size=2\n",
    "for word_pos,word_id in enumerate(corpus):\n",
    "    for idx in range(1,window_size+1):\n",
    "        left_context_idx = word_pos - idx\n",
    "        right_context_idx = word_pos + idx\n",
    "        \n",
    "        if left_context_idx > 0:\n",
    "            left_word_id = corpus[left_context_idx]\n",
    "            cooccur_mat[word_id,left_word_id] += 1\n",
    "        if right_context_idx < len(corpus):\n",
    "            right_word_id = corpus[right_context_idx]        \n",
    "            cooccur_mat[word_id, right_word_id] += 1"
   ]
  },
  {
   "cell_type": "code",
   "execution_count": 47,
   "metadata": {},
   "outputs": [
    {
     "name": "stdout",
     "output_type": "stream",
     "text": [
      "[[0. 1. 1. 0. 1. 0. 1.]\n",
      " [1. 0. 1. 0. 0. 0. 1.]\n",
      " [1. 1. 0. 1. 1. 0. 0.]\n",
      " [0. 0. 1. 0. 1. 0. 0.]\n",
      " [1. 0. 1. 1. 0. 0. 0.]\n",
      " [0. 1. 0. 0. 0. 0. 1.]\n",
      " [1. 1. 0. 0. 0. 0. 0.]]\n"
     ]
    }
   ],
   "source": [
    "print(cooccur_mat)"
   ]
  },
  {
   "cell_type": "code",
   "execution_count": 49,
   "metadata": {},
   "outputs": [
    {
     "name": "stdout",
     "output_type": "stream",
     "text": [
      "vector representation of I [0. 1. 0. 0. 0. 0. 1.]\n",
      "word id of I 5\n",
      "word id of had 6\n",
      "word id of a 1\n"
     ]
    }
   ],
   "source": [
    "\n",
    "print(\"vector representation of I\", cooccur_mat[word_to_id[\"I\"]])\n",
    "print(\"word id of I\",word_to_id[\"I\"])\n",
    "print(\"word id of had\", word_to_id[\"had\"])\n",
    "print(\"word id of a\",word_to_id[\"a\"])"
   ]
  }
 ],
 "metadata": {
  "kernelspec": {
   "display_name": "dl_312_venv",
   "language": "python",
   "name": "python3"
  },
  "language_info": {
   "codemirror_mode": {
    "name": "ipython",
    "version": 3
   },
   "file_extension": ".py",
   "mimetype": "text/x-python",
   "name": "python",
   "nbconvert_exporter": "python",
   "pygments_lexer": "ipython3",
   "version": "3.12.0"
  }
 },
 "nbformat": 4,
 "nbformat_minor": 2
}
