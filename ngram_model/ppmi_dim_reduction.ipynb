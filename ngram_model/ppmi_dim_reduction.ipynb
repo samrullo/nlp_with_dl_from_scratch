{
 "cells": [
  {
   "cell_type": "code",
   "execution_count": 1,
   "metadata": {},
   "outputs": [],
   "source": [
    "import numpy as np\n",
    "from utils import tokenize, build_vocabulary, get_word_to_id_from_vocab, get_id_to_word, build_corpus, create_cooccurrence_matrix"
   ]
  },
  {
   "cell_type": "code",
   "execution_count": 2,
   "metadata": {},
   "outputs": [],
   "source": [
    "text = \"prince loved princess form the bottom of his heart!\""
   ]
  },
  {
   "cell_type": "code",
   "execution_count": 3,
   "metadata": {},
   "outputs": [
    {
     "name": "stdout",
     "output_type": "stream",
     "text": [
      "['prince', 'loved', 'princess', 'form', 'the', 'bottom', 'of', 'his', 'heart', '!']\n"
     ]
    }
   ],
   "source": [
    "words = tokenize(text)\n",
    "print(words)"
   ]
  },
  {
   "cell_type": "code",
   "execution_count": 4,
   "metadata": {},
   "outputs": [
    {
     "name": "stdout",
     "output_type": "stream",
     "text": [
      "{'form', 'of', 'heart', 'the', 'loved', 'his', 'bottom', '!', 'princess', 'prince'}\n"
     ]
    }
   ],
   "source": [
    "vocab = build_vocabulary(words)\n",
    "print(vocab)"
   ]
  },
  {
   "cell_type": "code",
   "execution_count": 5,
   "metadata": {},
   "outputs": [
    {
     "name": "stdout",
     "output_type": "stream",
     "text": [
      "{'form': 0, 'of': 1, 'heart': 2, 'the': 3, 'loved': 4, 'his': 5, 'bottom': 6, '!': 7, 'princess': 8, 'prince': 9}\n"
     ]
    }
   ],
   "source": [
    "word_to_id = get_word_to_id_from_vocab(list(vocab))\n",
    "print(word_to_id)"
   ]
  },
  {
   "cell_type": "code",
   "execution_count": 6,
   "metadata": {},
   "outputs": [
    {
     "name": "stdout",
     "output_type": "stream",
     "text": [
      "{0: 'form', 1: 'of', 2: 'heart', 3: 'the', 4: 'loved', 5: 'his', 6: 'bottom', 7: '!', 8: 'princess', 9: 'prince'}\n"
     ]
    }
   ],
   "source": [
    "id_to_word=get_id_to_word(word_to_id)\n",
    "print(id_to_word)"
   ]
  },
  {
   "cell_type": "code",
   "execution_count": 7,
   "metadata": {},
   "outputs": [
    {
     "name": "stdout",
     "output_type": "stream",
     "text": [
      "[9, 4, 8, 0, 3, 6, 1, 5, 2, 7]\n"
     ]
    }
   ],
   "source": [
    "corpus=build_corpus(words,word_to_id)\n",
    "print(corpus)"
   ]
  },
  {
   "cell_type": "code",
   "execution_count": 8,
   "metadata": {},
   "outputs": [
    {
     "name": "stdout",
     "output_type": "stream",
     "text": [
      "[[0. 0. 0. 1. 0. 0. 0. 0. 1. 0.]\n",
      " [0. 0. 0. 0. 0. 1. 1. 0. 0. 0.]\n",
      " [0. 0. 0. 0. 0. 1. 0. 1. 0. 0.]\n",
      " [1. 0. 0. 0. 0. 0. 1. 0. 0. 0.]\n",
      " [0. 0. 0. 0. 0. 0. 0. 0. 1. 1.]\n",
      " [0. 1. 1. 0. 0. 0. 0. 0. 0. 0.]\n",
      " [0. 1. 0. 1. 0. 0. 0. 0. 0. 0.]\n",
      " [0. 0. 1. 0. 0. 0. 0. 0. 0. 0.]\n",
      " [1. 0. 0. 0. 1. 0. 0. 0. 0. 0.]\n",
      " [0. 0. 0. 0. 1. 0. 0. 0. 0. 0.]]\n"
     ]
    }
   ],
   "source": [
    "C = create_cooccurrence_matrix(corpus,window_size=1,vocab_size=len(vocab))\n",
    "print(C)"
   ]
  },
  {
   "cell_type": "code",
   "execution_count": 9,
   "metadata": {},
   "outputs": [],
   "source": [
    "from utils import build_ppmi"
   ]
  },
  {
   "cell_type": "code",
   "execution_count": 10,
   "metadata": {},
   "outputs": [
    {
     "name": "stderr",
     "output_type": "stream",
     "text": [
      "column wise loop: 100%|██████████| 10/10 [00:00<?, ?it/s]\n",
      "column wise loop: 100%|██████████| 10/10 [00:00<?, ?it/s]\n",
      "column wise loop: 100%|██████████| 10/10 [00:00<?, ?it/s]\n",
      "column wise loop: 100%|██████████| 10/10 [00:00<?, ?it/s]\n",
      "column wise loop: 100%|██████████| 10/10 [00:00<?, ?it/s]\n",
      "column wise loop: 100%|██████████| 10/10 [00:00<?, ?it/s]\n",
      "column wise loop: 100%|██████████| 10/10 [00:00<?, ?it/s]\n",
      "column wise loop: 100%|██████████| 10/10 [00:00<?, ?it/s]\n",
      "column wise loop: 100%|██████████| 10/10 [00:00<?, ?it/s]\n",
      "column wise loop: 100%|██████████| 10/10 [00:00<?, ?it/s]\n",
      "row wise loop: 100%|██████████| 10/10 [00:00<00:00, 588.26it/s]\n"
     ]
    }
   ],
   "source": [
    "ppmi = build_ppmi(C)"
   ]
  },
  {
   "cell_type": "code",
   "execution_count": 11,
   "metadata": {},
   "outputs": [
    {
     "data": {
      "text/plain": [
       "(10, 10)"
      ]
     },
     "execution_count": 11,
     "metadata": {},
     "output_type": "execute_result"
    }
   ],
   "source": [
    "ppmi.shape"
   ]
  },
  {
   "cell_type": "code",
   "execution_count": 12,
   "metadata": {},
   "outputs": [],
   "source": [
    "U, S, V = np.linalg.svd(ppmi)"
   ]
  },
  {
   "cell_type": "code",
   "execution_count": 13,
   "metadata": {},
   "outputs": [
    {
     "data": {
      "text/plain": [
       "(10, 10)"
      ]
     },
     "execution_count": 13,
     "metadata": {},
     "output_type": "execute_result"
    }
   ],
   "source": [
    "U.shape"
   ]
  },
  {
   "cell_type": "code",
   "execution_count": 14,
   "metadata": {},
   "outputs": [],
   "source": [
    "word_reps = U[:,:2]"
   ]
  },
  {
   "cell_type": "code",
   "execution_count": 15,
   "metadata": {},
   "outputs": [
    {
     "data": {
      "image/png": "[encoded data removed]",
      "text/plain": [
       "<Figure size 1500x800 with 1 Axes>"
      ]
     },
     "metadata": {},
     "output_type": "display_data"
    }
   ],
   "source": [
    "import matplotlib.pyplot as plt\n",
    "plt.figure(figsize=(15,8))\n",
    "for i, (x, y) in enumerate(word_reps):\n",
    "    plt.scatter(x, y)  # Plot the point\n",
    "    plt.annotate(id_to_word[i], # The label for this point\n",
    "                 (x, y),  # The position to place the text\n",
    "                 textcoords=\"offset points\",  # How to position the text\n",
    "                 xytext=(5,5),  # Distance from text to points (x,y)\n",
    "                 ha='left')  # Horizontal alignment can be left, right or center\n",
    "\n",
    "plt.show()"
   ]
  }
 ],
 "metadata": {
  "kernelspec": {
   "display_name": "dl_312_venv",
   "language": "python",
   "name": "python3"
  },
  "language_info": {
   "codemirror_mode": {
    "name": "ipython",
    "version": 3
   },
   "file_extension": ".py",
   "mimetype": "text/x-python",
   "name": "python",
   "nbconvert_exporter": "python",
   "pygments_lexer": "ipython3",
   "version": "3.12.0"
  }
 },
 "nbformat": 4,
 "nbformat_minor": 2
}
